{
 "cells": [
  {
   "cell_type": "code",
   "execution_count": 14,
   "id": "b6cbde69",
   "metadata": {},
   "outputs": [],
   "source": [
    "import sys\n",
    "sys.path.append(\"/c/Program Files (x86)/sox-14-4-2/\")"
   ]
  },
  {
   "cell_type": "code",
   "execution_count": 15,
   "id": "19ebd7f8",
   "metadata": {},
   "outputs": [
    {
     "data": {
      "text/plain": [
       "['C:\\\\source\\\\projects\\\\mnotes\\\\nbs',\n",
       " 'C:\\\\Anaconda3\\\\envs\\\\py38\\\\python38.zip',\n",
       " 'C:\\\\Anaconda3\\\\envs\\\\py38\\\\DLLs',\n",
       " 'C:\\\\Anaconda3\\\\envs\\\\py38\\\\lib',\n",
       " 'C:\\\\Anaconda3\\\\envs\\\\py38',\n",
       " 'C:\\\\source\\\\projects\\\\mnotes\\\\mnotevenv',\n",
       " '',\n",
       " 'C:\\\\source\\\\projects\\\\mnotes\\\\mnotevenv\\\\lib\\\\site-packages',\n",
       " 'C:\\\\source\\\\projects\\\\mnotes\\\\mnotevenv\\\\lib\\\\site-packages\\\\win32',\n",
       " 'C:\\\\source\\\\projects\\\\mnotes\\\\mnotevenv\\\\lib\\\\site-packages\\\\win32\\\\lib',\n",
       " 'C:\\\\source\\\\projects\\\\mnotes\\\\mnotevenv\\\\lib\\\\site-packages\\\\Pythonwin',\n",
       " '/c/Program Files (x86)/sox-14-4-2/']"
      ]
     },
     "execution_count": 15,
     "metadata": {},
     "output_type": "execute_result"
    }
   ],
   "source": [
    "sys.path"
   ]
  },
  {
   "cell_type": "code",
   "execution_count": 13,
   "id": "29f13bd3",
   "metadata": {},
   "outputs": [
    {
     "data": {
      "text/plain": [
       "'/c/Program\\\\ Files\\\\ \\\\(x86\\\\)/sox-14-4-2'"
      ]
     },
     "execution_count": 13,
     "metadata": {},
     "output_type": "execute_result"
    }
   ],
   "source": [
    "sys.path.pop()"
   ]
  },
  {
   "cell_type": "code",
   "execution_count": 5,
   "id": "559a9e4a",
   "metadata": {},
   "outputs": [
    {
     "name": "stdout",
     "output_type": "stream",
     "text": [
      "ChangeLog.txt\n",
      "LICENSE.GPL.txt\n",
      "README.txt\n",
      "README.win32.txt\n",
      "Uninstall sox-14.4.2.exe\n",
      "batch-example.bat\n",
      "libflac-8.dll\n",
      "libgcc_s_sjlj-1.dll\n",
      "libgomp-1.dll\n",
      "libid3tag-0.dll\n",
      "libogg-0.dll\n",
      "libpng16-16.dll\n",
      "libsox-3.dll\n",
      "libssp-0.dll\n",
      "libvorbis-0.dll\n",
      "libvorbisenc-2.dll\n",
      "libvorbisfile-3.dll\n",
      "libwavpack-1.dll\n",
      "libwinpthread-1.dll\n",
      "sox.exe\n",
      "sox.pdf\n",
      "soxformat.pdf\n",
      "soxi.pdf\n",
      "wget.exe\n",
      "wget.ini\n",
      "zlib1.dll\n"
     ]
    }
   ],
   "source": [
    "!ls \"/c/Program Files (x86)/sox-14-4-2\""
   ]
  },
  {
   "cell_type": "code",
   "execution_count": 16,
   "id": "4c97e099",
   "metadata": {},
   "outputs": [
    {
     "ename": "SoxNotInstalled",
     "evalue": "",
     "output_type": "error",
     "traceback": [
      "\u001b[1;31m---------------------------------------------------------------------------\u001b[0m",
      "\u001b[1;31mAssertionError\u001b[0m                            Traceback (most recent call last)",
      "File \u001b[1;32mC:\\source\\projects\\mnotes\\mnotevenv\\lib\\site-packages\\pyaudioconvert\\__init__.py:43\u001b[0m, in \u001b[0;36m<module>\u001b[1;34m\u001b[0m\n\u001b[0;32m     42\u001b[0m \u001b[38;5;28;01mtry\u001b[39;00m:\n\u001b[1;32m---> 43\u001b[0m     \u001b[38;5;28;01massert\u001b[39;00m(bool_which(\u001b[38;5;124m'\u001b[39m\u001b[38;5;124msox\u001b[39m\u001b[38;5;124m'\u001b[39m))\n\u001b[0;32m     44\u001b[0m \u001b[38;5;28;01mexcept\u001b[39;00m \u001b[38;5;167;01mAssertionError\u001b[39;00m:\n",
      "\u001b[1;31mAssertionError\u001b[0m: ",
      "\nDuring handling of the above exception, another exception occurred:\n",
      "\u001b[1;31mSoxNotInstalled\u001b[0m                           Traceback (most recent call last)",
      "Input \u001b[1;32mIn [16]\u001b[0m, in \u001b[0;36m<module>\u001b[1;34m\u001b[0m\n\u001b[1;32m----> 1\u001b[0m \u001b[38;5;28;01mimport\u001b[39;00m \u001b[38;5;21;01mpyaudioconvert\u001b[39;00m \u001b[38;5;28;01mas\u001b[39;00m \u001b[38;5;21;01mpac\u001b[39;00m\n",
      "File \u001b[1;32mC:\\source\\projects\\mnotes\\mnotevenv\\lib\\site-packages\\pyaudioconvert\\__init__.py:45\u001b[0m, in \u001b[0;36m<module>\u001b[1;34m\u001b[0m\n\u001b[0;32m     43\u001b[0m     \u001b[38;5;28;01massert\u001b[39;00m(bool_which(\u001b[38;5;124m'\u001b[39m\u001b[38;5;124msox\u001b[39m\u001b[38;5;124m'\u001b[39m))\n\u001b[0;32m     44\u001b[0m \u001b[38;5;28;01mexcept\u001b[39;00m \u001b[38;5;167;01mAssertionError\u001b[39;00m:\n\u001b[1;32m---> 45\u001b[0m     \u001b[38;5;28;01mraise\u001b[39;00m SoxNotInstalled()\n\u001b[0;32m     48\u001b[0m \u001b[38;5;28;01mdef\u001b[39;00m \u001b[38;5;21m_valid_readable_file\u001b[39m(file_path):\n\u001b[0;32m     49\u001b[0m     \u001b[38;5;66;03m# returns false if file does not exist or is not readable (note python can return true/false on a real file)\u001b[39;00m\n\u001b[0;32m     50\u001b[0m     \u001b[38;5;28;01mif\u001b[39;00m \u001b[38;5;129;01mnot\u001b[39;00m (os\u001b[38;5;241m.\u001b[39mpath\u001b[38;5;241m.\u001b[39misfile(file_path) \u001b[38;5;129;01mand\u001b[39;00m os\u001b[38;5;241m.\u001b[39maccess(file_path, os\u001b[38;5;241m.\u001b[39mR_OK)):\n",
      "\u001b[1;31mSoxNotInstalled\u001b[0m: "
     ]
    }
   ],
   "source": [
    "import pyaudioconvert as pac"
   ]
  },
  {
   "cell_type": "code",
   "execution_count": null,
   "id": "a8932a2e",
   "metadata": {},
   "outputs": [],
   "source": [
    "pac.convert_wav_to_16bit_mono('test.wav', 'testout.wav')"
   ]
  },
  {
   "cell_type": "code",
   "execution_count": null,
   "id": "bb0f0909",
   "metadata": {},
   "outputs": [],
   "source": []
  },
  {
   "cell_type": "code",
   "execution_count": null,
   "id": "ea6b7b80",
   "metadata": {},
   "outputs": [],
   "source": []
  },
  {
   "cell_type": "code",
   "execution_count": null,
   "id": "4e277215",
   "metadata": {},
   "outputs": [],
   "source": []
  },
  {
   "cell_type": "code",
   "execution_count": 17,
   "id": "59810a66",
   "metadata": {},
   "outputs": [],
   "source": [
    "import azure.cognitiveservices.speech as speechsdk\n",
    "subs='fddc9df7-f5e2-40c1-bc0f-a678ab16e718'\n",
    "region='eastus'\n",
    "ep='https://eastus.api.cognitive.microsoft.com/sts/v1.0/issuetoken'\n",
    "token='3bda659941b844b39fc87b733b57a391'\n",
    "\n",
    "def from_file():\n",
    "    speech_config = speechsdk.SpeechConfig(subscription=subs, endpoint=ep,speech_recognition_language='en' )\n",
    "    # speech_config = speechsdk.SpeechConfig(subscription=\"<paste-your-speech-key-here>\", region=\"<paste-your-speech-location/region-here>\")\n",
    "    audio_input = speechsdk.AudioConfig(filename=\"./data/test_converted.wav\")\n",
    "    speech_recognizer = speechsdk.SpeechRecognizer(speech_config=speech_config, audio_config=audio_input)\n",
    "    \n",
    "    result = speech_recognizer.recognize_once_async().get()\n",
    "    print(result.text)\n"
   ]
  },
  {
   "cell_type": "code",
   "execution_count": 18,
   "id": "d532ec22",
   "metadata": {},
   "outputs": [
    {
     "ename": "RuntimeError",
     "evalue": "Exception with an error code: 0x8 (SPXERR_FILE_OPEN_FAILED)\n[CALL STACK BEGIN]\n\n    > pal_string_to_wstring\n\n    - pal_string_to_wstring\n\n    - pal_string_to_wstring\n\n    - pal_string_to_wstring\n\n    - pal_string_to_wstring\n\n    - pal_string_to_wstring\n\n    - pal_string_to_wstring\n\n    - pal_string_to_wstring\n\n    - pal_string_to_wstring\n\n    - pal_string_to_wstring\n\n    - pal_string_to_wstring\n\n    - pal_string_to_wstring\n\n    - pal_string_to_wstring\n\n    - pal_string_to_wstring\n\n    - pal_string_to_wstring\n\n    - recognizer_create_speech_recognizer_from_config\n\n\n\n[CALL STACK END]\n\n",
     "output_type": "error",
     "traceback": [
      "\u001b[1;31m---------------------------------------------------------------------------\u001b[0m",
      "\u001b[1;31mRuntimeError\u001b[0m                              Traceback (most recent call last)",
      "Input \u001b[1;32mIn [18]\u001b[0m, in \u001b[0;36m<module>\u001b[1;34m\u001b[0m\n\u001b[1;32m----> 1\u001b[0m \u001b[43mfrom_file\u001b[49m\u001b[43m(\u001b[49m\u001b[43m)\u001b[49m\n",
      "Input \u001b[1;32mIn [17]\u001b[0m, in \u001b[0;36mfrom_file\u001b[1;34m()\u001b[0m\n\u001b[0;32m      9\u001b[0m \u001b[38;5;66;03m# speech_config = speechsdk.SpeechConfig(subscription=\"<paste-your-speech-key-here>\", region=\"<paste-your-speech-location/region-here>\")\u001b[39;00m\n\u001b[0;32m     10\u001b[0m audio_input \u001b[38;5;241m=\u001b[39m speechsdk\u001b[38;5;241m.\u001b[39mAudioConfig(filename\u001b[38;5;241m=\u001b[39m\u001b[38;5;124m\"\u001b[39m\u001b[38;5;124m./data/test_converted.wav\u001b[39m\u001b[38;5;124m\"\u001b[39m)\n\u001b[1;32m---> 11\u001b[0m speech_recognizer \u001b[38;5;241m=\u001b[39m \u001b[43mspeechsdk\u001b[49m\u001b[38;5;241;43m.\u001b[39;49m\u001b[43mSpeechRecognizer\u001b[49m\u001b[43m(\u001b[49m\u001b[43mspeech_config\u001b[49m\u001b[38;5;241;43m=\u001b[39;49m\u001b[43mspeech_config\u001b[49m\u001b[43m,\u001b[49m\u001b[43m \u001b[49m\u001b[43maudio_config\u001b[49m\u001b[38;5;241;43m=\u001b[39;49m\u001b[43maudio_input\u001b[49m\u001b[43m)\u001b[49m\n\u001b[0;32m     13\u001b[0m result \u001b[38;5;241m=\u001b[39m speech_recognizer\u001b[38;5;241m.\u001b[39mrecognize_once_async()\u001b[38;5;241m.\u001b[39mget()\n\u001b[0;32m     14\u001b[0m \u001b[38;5;28mprint\u001b[39m(result\u001b[38;5;241m.\u001b[39mtext)\n",
      "File \u001b[1;32mC:\\source\\projects\\mnotes\\mnotevenv\\lib\\site-packages\\azure\\cognitiveservices\\speech\\speech.py:806\u001b[0m, in \u001b[0;36mSpeechRecognizer.__init__\u001b[1;34m(self, speech_config, audio_config, language, source_language_config, auto_detect_source_language_config)\u001b[0m\n\u001b[0;32m    802\u001b[0m \u001b[38;5;28;01mif\u001b[39;00m languageConfigNum \u001b[38;5;241m>\u001b[39m \u001b[38;5;241m1\u001b[39m:\n\u001b[0;32m    803\u001b[0m     \u001b[38;5;28;01mraise\u001b[39;00m \u001b[38;5;167;01mValueError\u001b[39;00m(\u001b[38;5;124m'\u001b[39m\u001b[38;5;124mcannot construct SpeechRecognizer with more than one language configurations, please only specify one of these three parameters: language, source_language_config or auto_detect_source_language_config\u001b[39m\u001b[38;5;124m'\u001b[39m)\n\u001b[1;32m--> 806\u001b[0m \u001b[38;5;28mself\u001b[39m\u001b[38;5;241m.\u001b[39m_impl \u001b[38;5;241m=\u001b[39m \u001b[38;5;28;43mself\u001b[39;49m\u001b[38;5;241;43m.\u001b[39;49m\u001b[43m_get_impl\u001b[49m\u001b[43m(\u001b[49m\u001b[43mimpl\u001b[49m\u001b[38;5;241;43m.\u001b[39;49m\u001b[43mSpeechRecognizer\u001b[49m\u001b[43m,\u001b[49m\u001b[43m \u001b[49m\u001b[43mspeech_config\u001b[49m\u001b[43m,\u001b[49m\u001b[43m \u001b[49m\u001b[43maudio_config\u001b[49m\u001b[43m,\u001b[49m\u001b[43m \u001b[49m\u001b[43mlanguage\u001b[49m\u001b[43m,\u001b[49m\u001b[43m \u001b[49m\u001b[43msource_language_config\u001b[49m\u001b[43m,\u001b[49m\u001b[43m \u001b[49m\u001b[43mauto_detect_source_language_config\u001b[49m\u001b[43m)\u001b[49m\n",
      "File \u001b[1;32mC:\\source\\projects\\mnotes\\mnotevenv\\lib\\site-packages\\azure\\cognitiveservices\\speech\\speech.py:869\u001b[0m, in \u001b[0;36mSpeechRecognizer._get_impl\u001b[1;34m(reco_type, speech_config, audio_config, language, source_language_config, auto_detect_source_language_config)\u001b[0m\n\u001b[0;32m    867\u001b[0m     \u001b[38;5;28;01mif\u001b[39;00m audio_config \u001b[38;5;129;01mis\u001b[39;00m \u001b[38;5;28;01mNone\u001b[39;00m:\n\u001b[0;32m    868\u001b[0m         \u001b[38;5;28;01mreturn\u001b[39;00m reco_type\u001b[38;5;241m.\u001b[39m_from_config(speech_config\u001b[38;5;241m.\u001b[39m_impl)\n\u001b[1;32m--> 869\u001b[0m     \u001b[38;5;28;01mreturn\u001b[39;00m \u001b[43mreco_type\u001b[49m\u001b[38;5;241;43m.\u001b[39;49m\u001b[43m_from_config\u001b[49m\u001b[43m(\u001b[49m\u001b[43mspeech_config\u001b[49m\u001b[38;5;241;43m.\u001b[39;49m\u001b[43m_impl\u001b[49m\u001b[43m,\u001b[49m\u001b[43m  \u001b[49m\u001b[43maudio_config\u001b[49m\u001b[38;5;241;43m.\u001b[39;49m\u001b[43m_impl\u001b[49m\u001b[43m)\u001b[49m\n\u001b[0;32m    870\u001b[0m \u001b[38;5;28;01mif\u001b[39;00m language \u001b[38;5;129;01mis\u001b[39;00m \u001b[38;5;129;01mnot\u001b[39;00m \u001b[38;5;28;01mNone\u001b[39;00m:\n\u001b[0;32m    871\u001b[0m     \u001b[38;5;28;01mif\u001b[39;00m audio_config \u001b[38;5;129;01mis\u001b[39;00m \u001b[38;5;28;01mNone\u001b[39;00m:\n",
      "\u001b[1;31mRuntimeError\u001b[0m: Exception with an error code: 0x8 (SPXERR_FILE_OPEN_FAILED)\n[CALL STACK BEGIN]\n\n    > pal_string_to_wstring\n\n    - pal_string_to_wstring\n\n    - pal_string_to_wstring\n\n    - pal_string_to_wstring\n\n    - pal_string_to_wstring\n\n    - pal_string_to_wstring\n\n    - pal_string_to_wstring\n\n    - pal_string_to_wstring\n\n    - pal_string_to_wstring\n\n    - pal_string_to_wstring\n\n    - pal_string_to_wstring\n\n    - pal_string_to_wstring\n\n    - pal_string_to_wstring\n\n    - pal_string_to_wstring\n\n    - pal_string_to_wstring\n\n    - recognizer_create_speech_recognizer_from_config\n\n\n\n[CALL STACK END]\n\n"
     ]
    }
   ],
   "source": [
    "from_file()"
   ]
  },
  {
   "cell_type": "code",
   "execution_count": 49,
   "id": "f8f54a06",
   "metadata": {},
   "outputs": [
    {
     "name": "stdout",
     "output_type": "stream",
     "text": [
      "Speak into your microphone.\n",
      "\n"
     ]
    }
   ],
   "source": [
    "\n",
    "import azure.cognitiveservices.speech as speechsdk\n",
    "\n",
    "subs='fddc9df7-f5e2-40c1-bc0f-a678ab16e718'\n",
    "region='eastus'\n",
    "ep='https://eastus.api.cognitive.microsoft.com/sts/v1.0/issuetoken'\n",
    "token='3bda659941b844b39fc87b733b57a391'\n",
    "\n",
    "speech_config = speechsdk.SpeechConfig(subscription=subs, region=\"eastus\")\n",
    "\n",
    "def from_mic():\n",
    "#     speech_config.speech_recognition_language=\"es-EN\" #es-CR\n",
    "    speech_recognizer = speechsdk.SpeechRecognizer(speech_config=speech_config)\n",
    "    \n",
    "    print(\"Speak into your microphone.\")\n",
    "    speech = speech_recognizer.recognize_once_async().get()\n",
    "    print(speech.text)\n",
    "\n",
    "from_mic() \n",
    "\n"
   ]
  },
  {
   "cell_type": "code",
   "execution_count": 50,
   "id": "da01b86b",
   "metadata": {},
   "outputs": [
    {
     "ename": "NameError",
     "evalue": "name 'speech' is not defined",
     "output_type": "error",
     "traceback": [
      "\u001b[1;31m---------------------------------------------------------------------------\u001b[0m",
      "\u001b[1;31mNameError\u001b[0m                                 Traceback (most recent call last)",
      "Input \u001b[1;32mIn [50]\u001b[0m, in \u001b[0;36m<module>\u001b[1;34m\u001b[0m\n\u001b[1;32m----> 1\u001b[0m \u001b[38;5;28;01mif\u001b[39;00m \u001b[43mspeech\u001b[49m\u001b[38;5;241m.\u001b[39mreason \u001b[38;5;241m==\u001b[39m speechsdk\u001b[38;5;241m.\u001b[39mResultReason\u001b[38;5;241m.\u001b[39mRecognizedSpeech:\n\u001b[0;32m      2\u001b[0m     command \u001b[38;5;241m=\u001b[39m speech\u001b[38;5;241m.\u001b[39mtext\n\u001b[0;32m      3\u001b[0m     \u001b[38;5;28mprint\u001b[39m(command)\n",
      "\u001b[1;31mNameError\u001b[0m: name 'speech' is not defined"
     ]
    }
   ],
   "source": [
    "if speech.reason == speechsdk.ResultReason.RecognizedSpeech:\n",
    "    command = speech.text\n",
    "    print(command)\n",
    "else:\n",
    "    print(speech.reason)\n",
    "    if speech.reason == speechsdk.ResultReason.Canceled:\n",
    "        cancellation = speech.cancellation_details\n",
    "        print(cancellation.reason)\n",
    "        print(cancellation.error_details)"
   ]
  },
  {
   "cell_type": "code",
   "execution_count": null,
   "id": "3ee22d21",
   "metadata": {},
   "outputs": [],
   "source": []
  },
  {
   "cell_type": "code",
   "execution_count": 41,
   "id": "cd56a4ab",
   "metadata": {},
   "outputs": [
    {
     "name": "stdout",
     "output_type": "stream",
     "text": [
      "Speak into your microphone.\n",
      "\n"
     ]
    }
   ],
   "source": [
    "from_mic()"
   ]
  },
  {
   "cell_type": "code",
   "execution_count": 26,
   "id": "bd8b9157",
   "metadata": {},
   "outputs": [
    {
     "ename": "NameError",
     "evalue": "name 'result' is not defined",
     "output_type": "error",
     "traceback": [
      "\u001b[1;31m---------------------------------------------------------------------------\u001b[0m",
      "\u001b[1;31mNameError\u001b[0m                                 Traceback (most recent call last)",
      "Input \u001b[1;32mIn [26]\u001b[0m, in \u001b[0;36m<module>\u001b[1;34m\u001b[0m\n\u001b[1;32m----> 1\u001b[0m \u001b[43mresult\u001b[49m\n",
      "\u001b[1;31mNameError\u001b[0m: name 'result' is not defined"
     ]
    }
   ],
   "source": [
    "result"
   ]
  },
  {
   "cell_type": "code",
   "execution_count": null,
   "id": "be1b44f0",
   "metadata": {},
   "outputs": [],
   "source": []
  }
 ],
 "metadata": {
  "kernelspec": {
   "display_name": "mnotesvenv",
   "language": "python",
   "name": "mnotesvenv"
  },
  "language_info": {
   "codemirror_mode": {
    "name": "ipython",
    "version": 3
   },
   "file_extension": ".py",
   "mimetype": "text/x-python",
   "name": "python",
   "nbconvert_exporter": "python",
   "pygments_lexer": "ipython3",
   "version": "3.8.10"
  }
 },
 "nbformat": 4,
 "nbformat_minor": 5
}
